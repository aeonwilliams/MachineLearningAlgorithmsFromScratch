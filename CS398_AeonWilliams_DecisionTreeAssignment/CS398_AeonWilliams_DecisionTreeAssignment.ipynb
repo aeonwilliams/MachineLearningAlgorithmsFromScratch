{
 "cells": [
  {
   "cell_type": "markdown",
   "metadata": {},
   "source": [
    "# Decision Tree (CART)\n",
    "##### Aeon Williams, CS398 F2020"
   ]
  },
  {
   "cell_type": "code",
   "execution_count": 1,
   "metadata": {},
   "outputs": [
    {
     "data": {
      "text/html": [
       "<style>.container { width:100% !important; }</style>"
      ],
      "text/plain": [
       "<IPython.core.display.HTML object>"
      ]
     },
     "metadata": {},
     "output_type": "display_data"
    }
   ],
   "source": [
    "from IPython.core.display import display, HTML\n",
    "display(HTML(\"<style>.container { width:100% !important; }</style>\")) # makes the notebook fill the whole window\n",
    "\n",
    "import numpy as np\n",
    "import pandas as pd\n",
    "import matplotlib as mpl\n",
    "from matplotlib import pyplot as plt\n",
    "\n",
    "from sklearn import preprocessing #for encoding the categorical data\n",
    "from sklearn.model_selection import train_test_split #for splitting the dataset\n",
    "\n",
    "import seaborn as sb"
   ]
  },
  {
   "cell_type": "markdown",
   "metadata": {},
   "source": [
    "# Decision Tree Algorithm"
   ]
  },
  {
   "cell_type": "markdown",
   "metadata": {},
   "source": [
    "### Gini Index calculation\n",
    "<img src=\"gini_index.PNG\" alt=\"gini_index_formula\" width=\"400\"/>"
   ]
  },
  {
   "cell_type": "code",
   "execution_count": 4,
   "metadata": {},
   "outputs": [],
   "source": [
    "# Calculates the Gini Index of a list of groups (group of rows from the dataset)\n",
    "def gini_index(row_group, ind_var_values):\n",
    "    # The number of independent variable instances in the entire group\n",
    "    feature_total = float(sum([len(group) for group in row_group]))\n",
    "    gini_index = 0\n",
    "    \n",
    "    # Calculate the Gini Index of each individual row, and add that to the total index calculation\n",
    "    for group in row_group:\n",
    "        # The number of independent variables instances in this group\n",
    "        total = float(len(group))\n",
    "        \n",
    "        # Calculate the Gini Index of each individual attribute\n",
    "        if total != 0: # Prevent division by 0\n",
    "            score = 0\n",
    "            for value in ind_var_values:\n",
    "                p = [row[-1] for row in group].count(value) / total\n",
    "                score += p**2\n",
    "            gini_index += (1 - score) * (total / feature_total)\n",
    "            \n",
    "    return gini_index"
   ]
  },
  {
   "cell_type": "markdown",
   "metadata": {},
   "source": [
    "### Split groups based on Gini Index\n",
    "<img src=\"split_1.PNG\" alt=\"gini_index_formula\" width=\"400\"/>"
   ]
  },
  {
   "cell_type": "code",
   "execution_count": 5,
   "metadata": {},
   "outputs": [],
   "source": [
    "# Splits a list of rows into left and right lists based on given index and value\n",
    "def split_row_list(feature_index, value, row_list):\n",
    "    left, right = list(), list()\n",
    "    \n",
    "    # If the feature value of the row is less than the given parameter, it goes in the left list\n",
    "    # Otherwise, it goes into the right list\n",
    "    for row in row_list:\n",
    "        if row[feature_index] < value:\n",
    "            left.append(row)\n",
    "        else:\n",
    "            right.append(row)\n",
    "    return left, right\n",
    "\n",
    "# Determine the best* split of a list of rows\n",
    "# *a smaller Gini Index is a more cost effective split, quantifying it as best\n",
    "def best_split(row_list):\n",
    "    ind_var_values = list(set(row[-1] for row in row_list))\n",
    "    # Starting values so that the first split is \"best\", and all other splits iterate off of that one\n",
    "    result_index = result_value = result_score = 999\n",
    "    result_groups = ()\n",
    "    \n",
    "    # For each feature index in the list\n",
    "    for feature_index in range(len(row_list[0]) - 1):\n",
    "        # For each combination of feature and value of that feature\n",
    "        for row in row_list:\n",
    "            # Split the list into 2 groups\n",
    "            row_groups = split_row_list(feature_index, row[feature_index], row_list)\n",
    "            g_index = gini_index(row_groups, ind_var_values)\n",
    "            # If the Gini Index from this split is better than the previous recorded best, update all relevant values\n",
    "            if g_index < result_score:\n",
    "                result_index, result_value, result_score, result_groups = feature_index, row[feature_index], g_index, row_groups\n",
    "                \n",
    "    return {'index':result_index, 'value':result_value, 'groups':result_groups}\n"
   ]
  },
  {
   "cell_type": "markdown",
   "metadata": {},
   "source": [
    "### Terminal node\n",
    "<img src=\"termination.PNG\" alt=\"gini_index_formula\" width=\"400\"/>"
   ]
  },
  {
   "cell_type": "code",
   "execution_count": 6,
   "metadata": {},
   "outputs": [],
   "source": [
    "# Calculates the most common independent variable value in a list of rows\n",
    "# This translates to being the prediction value if this terminal node is reached\n",
    "def terminal_node_value(row_list):\n",
    "    outcomes = [row[-1] for row in row_list]\n",
    "    return max(set(outcomes), key=outcomes.count)"
   ]
  },
  {
   "cell_type": "markdown",
   "metadata": {},
   "source": [
    "### Node creation with splits\n",
    "<img src=\"split.PNG\" alt=\"gini_index_formula\" width=\"400\"/>"
   ]
  },
  {
   "cell_type": "code",
   "execution_count": 7,
   "metadata": {},
   "outputs": [],
   "source": [
    "# Create left and right nodes for the given parent node\n",
    "# This recursive function, when called with a root node, creates an entire decision tree from that information\n",
    "def build_tree_nodes(node, max_depth, min_size, current_depth):\n",
    "    # Store the node's groups into relevant left & right lists\n",
    "    left, right = node['groups']\n",
    "    del(node['groups'])\n",
    "    \n",
    "    # If neither group has anything in it, this is a stopping condition and terminal nodes are created\n",
    "    if not left or not right:\n",
    "        node['left'] = node['right'] = terminal_node_value(left + right)\n",
    "        return\n",
    "    # If we have reached maximum depth of the tree, this is a stopping condition and terminal nodes are created\n",
    "    if current_depth >= max_depth:\n",
    "        node['left'], node['right'] = terminal_node_value(left), terminal_node_value(right)\n",
    "        return\n",
    "\n",
    "    nodes, i = [left, right], 0\n",
    "    for direction in ['left', 'right']:\n",
    "        # If there aren't enough rows in the group, this is a stopping condition and terminal nodes are created\n",
    "        if len(nodes[i]) <= min_size:\n",
    "            node[direction] = terminal_node_value(nodes[i])\n",
    "        # Otherwise, continue building the tree by splitting\n",
    "        else:\n",
    "            node[direction] = best_split(nodes[i])\n",
    "            build_tree_nodes(node[direction], max_depth, min_size, current_depth+1)\n",
    "        i += 1"
   ]
  },
  {
   "cell_type": "markdown",
   "metadata": {},
   "source": [
    "### Build a tree with nodes\n",
    "<img src=\"tree.PNG\" alt=\"gini_index_formula\" width=\"500\"/>"
   ]
  },
  {
   "cell_type": "code",
   "execution_count": 8,
   "metadata": {},
   "outputs": [],
   "source": [
    "# Create a decision tree for the given list of rows\n",
    "def build_tree(row_list, max_depth, min_size):\n",
    "    # Determine the root node with the first split\n",
    "    root = best_split(row_list)\n",
    "    # Build the tree based on the root node\n",
    "    build_tree_nodes(root, max_depth, min_size, 1)\n",
    "    return root"
   ]
  },
  {
   "cell_type": "markdown",
   "metadata": {},
   "source": [
    "### Predictions based on the tree"
   ]
  },
  {
   "cell_type": "code",
   "execution_count": 9,
   "metadata": {},
   "outputs": [],
   "source": [
    "# Predict the value of the independent variable of the given row\n",
    "# \"node\" should be the root node of the tree\n",
    "def predict(node, row):\n",
    "    # Determine direction (left or right) to move down, based on how the split functions were written\n",
    "    # Left\n",
    "    if row[node['index']] < node['value']:\n",
    "        # If node is not terminal, continue moving down the tree\n",
    "        if isinstance(node['left'], dict):\n",
    "            return predict(node['left'], row)\n",
    "        # Otherwise, we have reached a terminal node, whose value is now the prediction\n",
    "        else:\n",
    "            return node['left']\n",
    "    # Right\n",
    "    else:\n",
    "        # If node is not terminal, continue moving down the tree\n",
    "        if isinstance(node['right'], dict):\n",
    "            return predict(node['right'], row)\n",
    "        # Otherwise, we have reached a terminal node, whose value is now the prediction\n",
    "        else:\n",
    "            return node['right']"
   ]
  },
  {
   "cell_type": "markdown",
   "metadata": {},
   "source": [
    "## Decision Tree (CART)"
   ]
  },
  {
   "cell_type": "code",
   "execution_count": 10,
   "metadata": {},
   "outputs": [],
   "source": [
    "# Based on a dataset, pre-divided into train and test sets, predict the independent variable values for the test set\n",
    "def decision_tree_predictions(train, test, max_depth, min_size):\n",
    "    # Build the tree from the training data\n",
    "    tree = build_tree(train, max_depth, min_size)\n",
    "    predictions = list()\n",
    "    # Create a list of predictions for the test set\n",
    "    for row in test:\n",
    "        prediction = predict(tree, row)\n",
    "        predictions.append(prediction)\n",
    "    return(predictions)"
   ]
  },
  {
   "cell_type": "code",
   "execution_count": 11,
   "metadata": {},
   "outputs": [],
   "source": [
    "def master_tree_predictions(ls, tree):\n",
    "    predictions = list()\n",
    "    for row in ls:\n",
    "        prediction = predict(tree, row)\n",
    "        predictions.append(prediction)\n",
    "    return predictions"
   ]
  },
  {
   "cell_type": "markdown",
   "metadata": {},
   "source": [
    "### Analysis tools"
   ]
  },
  {
   "cell_type": "code",
   "execution_count": 12,
   "metadata": {},
   "outputs": [],
   "source": [
    "# Based on lists of the actual values and predicted values, evaluate how closely they match\n",
    "def accuracy_metric(actual, predicted):\n",
    "    matching_value_count = 0\n",
    "    for i in range(len(actual)):\n",
    "        if actual[i] == predicted[i]:\n",
    "            matching_value_count += 1\n",
    "    return matching_value_count / float(len(actual)) * 100\n",
    "\n",
    "# Prinout of tree.\n",
    "def print_tree(tree, depth=0):\n",
    "    if isinstance(tree, dict):\n",
    "        print('%s[X%d < %.3f]' % ((depth*' ', (tree['index']+1), tree['value'])))\n",
    "        print_tree(tree['left'], depth+1)\n",
    "        print_tree(tree['right'], depth+1)\n",
    "    else:\n",
    "        print('%s[%s]' % ((depth*' ', tree)))"
   ]
  },
  {
   "cell_type": "markdown",
   "metadata": {},
   "source": [
    "### Function to call to use this model and evaluate the accuracy of it"
   ]
  },
  {
   "cell_type": "code",
   "execution_count": 13,
   "metadata": {},
   "outputs": [],
   "source": [
    "# Run the decision tree model on the given dataset, so minimal work has to be done to use this model with any dataset\n",
    "def decision_tree_model(df, runs=1, max_depth=5, min_size=0):\n",
    "    accuracy = []\n",
    "    # Run the algorithm the given number of times, because accuracy can't be correctly gauged off the result of 1 run\n",
    "    for i in range(runs):\n",
    "        # Convert the dataframe into a list\n",
    "        df_list = df.iloc[0:,:].values.tolist()\n",
    "        # Split the list into train and test sets\n",
    "        train, test = train_test_split(df_list, test_size=.2, train_size=.8)\n",
    "        # Store the correct independent values of test, to evaluate accuracy\n",
    "        actual = [row[-1] for row in test]\n",
    "        # Remove the actual values from test, to be able to predict\n",
    "        for row in test:\n",
    "            row[-1] = None\n",
    "        pred = decision_tree_predictions(train, test, max_depth, min_size)\n",
    "        accuracy.append(accuracy_metric(actual, pred))\n",
    "    # Print the accuracy results in an easy to read way\n",
    "    print(\"Number of times ran:\", runs, \", with a max depth of\", max_depth, \", and min node size of\", min_size)\n",
    "    print(\"Average accuracy: \" + str(sum(accuracy) / float(len(accuracy))) + \"%\")"
   ]
  },
  {
   "cell_type": "markdown",
   "metadata": {},
   "source": [
    "# Question 1\n",
    "## Using the tennis dataset to predict if a player will play tennis"
   ]
  },
  {
   "cell_type": "markdown",
   "metadata": {},
   "source": [
    "### Loading the data"
   ]
  },
  {
   "cell_type": "code",
   "execution_count": 31,
   "metadata": {
    "scrolled": false
   },
   "outputs": [
    {
     "name": "stdout",
     "output_type": "stream",
     "text": [
      "<class 'pandas.core.frame.DataFrame'>\n",
      "RangeIndex: 14 entries, 0 to 13\n",
      "Data columns (total 5 columns):\n",
      "Outlook     14 non-null category\n",
      "Temp.       14 non-null category\n",
      "Humidity    14 non-null category\n",
      "Wind        14 non-null category\n",
      "Decision    14 non-null category\n",
      "dtypes: category(5)\n",
      "memory usage: 646.0 bytes\n"
     ]
    },
    {
     "data": {
      "text/plain": [
       "None"
      ]
     },
     "metadata": {},
     "output_type": "display_data"
    },
    {
     "data": {
      "text/html": [
       "<div>\n",
       "<style scoped>\n",
       "    .dataframe tbody tr th:only-of-type {\n",
       "        vertical-align: middle;\n",
       "    }\n",
       "\n",
       "    .dataframe tbody tr th {\n",
       "        vertical-align: top;\n",
       "    }\n",
       "\n",
       "    .dataframe thead th {\n",
       "        text-align: right;\n",
       "    }\n",
       "</style>\n",
       "<table border=\"1\" class=\"dataframe\">\n",
       "  <thead>\n",
       "    <tr style=\"text-align: right;\">\n",
       "      <th></th>\n",
       "      <th>Outlook</th>\n",
       "      <th>Temp.</th>\n",
       "      <th>Humidity</th>\n",
       "      <th>Wind</th>\n",
       "      <th>Decision</th>\n",
       "    </tr>\n",
       "  </thead>\n",
       "  <tbody>\n",
       "    <tr>\n",
       "      <th>0</th>\n",
       "      <td>Sunny</td>\n",
       "      <td>Hot</td>\n",
       "      <td>High</td>\n",
       "      <td>Weak</td>\n",
       "      <td>No</td>\n",
       "    </tr>\n",
       "    <tr>\n",
       "      <th>1</th>\n",
       "      <td>Sunny</td>\n",
       "      <td>Hot</td>\n",
       "      <td>High</td>\n",
       "      <td>Strong</td>\n",
       "      <td>No</td>\n",
       "    </tr>\n",
       "  </tbody>\n",
       "</table>\n",
       "</div>"
      ],
      "text/plain": [
       "  Outlook Temp. Humidity    Wind Decision\n",
       "0   Sunny   Hot     High    Weak       No\n",
       "1   Sunny   Hot     High  Strong       No"
      ]
     },
     "metadata": {},
     "output_type": "display_data"
    },
    {
     "data": {
      "text/html": [
       "<div>\n",
       "<style scoped>\n",
       "    .dataframe tbody tr th:only-of-type {\n",
       "        vertical-align: middle;\n",
       "    }\n",
       "\n",
       "    .dataframe tbody tr th {\n",
       "        vertical-align: top;\n",
       "    }\n",
       "\n",
       "    .dataframe thead th {\n",
       "        text-align: right;\n",
       "    }\n",
       "</style>\n",
       "<table border=\"1\" class=\"dataframe\">\n",
       "  <thead>\n",
       "    <tr style=\"text-align: right;\">\n",
       "      <th></th>\n",
       "      <th>Outlook</th>\n",
       "      <th>Temp.</th>\n",
       "      <th>Humidity</th>\n",
       "      <th>Wind</th>\n",
       "      <th>Decision</th>\n",
       "    </tr>\n",
       "  </thead>\n",
       "  <tbody>\n",
       "    <tr>\n",
       "      <th>0</th>\n",
       "      <td>2</td>\n",
       "      <td>1</td>\n",
       "      <td>0</td>\n",
       "      <td>1</td>\n",
       "      <td>0</td>\n",
       "    </tr>\n",
       "    <tr>\n",
       "      <th>1</th>\n",
       "      <td>2</td>\n",
       "      <td>1</td>\n",
       "      <td>0</td>\n",
       "      <td>0</td>\n",
       "      <td>0</td>\n",
       "    </tr>\n",
       "  </tbody>\n",
       "</table>\n",
       "</div>"
      ],
      "text/plain": [
       "   Outlook  Temp.  Humidity  Wind  Decision\n",
       "0        2      1         0     1         0\n",
       "1        2      1         0     0         0"
      ]
     },
     "metadata": {},
     "output_type": "display_data"
    }
   ],
   "source": [
    "df = pd.read_csv(\"./data/tennis.csv\")\n",
    "df.drop(\"Day\", axis=1, inplace=True) # Drop unneeded dependent features\n",
    "df = df.astype('category') # Easier datatype\n",
    "display(df.info())\n",
    "display(df.head(2))\n",
    "df_encoded = df.apply(preprocessing.LabelEncoder().fit_transform) # Encode categorical features for numerical evaluation in the algorithm\n",
    "display(df_encoded.head(2))"
   ]
  },
  {
   "cell_type": "markdown",
   "metadata": {},
   "source": [
    "### Prediction accuracy with pre-pruning comparisons"
   ]
  },
  {
   "cell_type": "code",
   "execution_count": 32,
   "metadata": {
    "scrolled": true
   },
   "outputs": [
    {
     "name": "stdout",
     "output_type": "stream",
     "text": [
      "Number of times ran: 50 , with a max depth of 5 , and min node size of 2\n",
      "Average accuracy: 51.33333333333333%\n",
      "Number of times ran: 50 , with a max depth of 5 , and min node size of 4\n",
      "Average accuracy: 55.99999999999999%\n",
      "Number of times ran: 50 , with a max depth of 10 , and min node size of 2\n",
      "Average accuracy: 46.66666666666666%\n",
      "Number of times ran: 50 , with a max depth of 10 , and min node size of 4\n",
      "Average accuracy: 55.33333333333333%\n"
     ]
    }
   ],
   "source": [
    "decision_tree_model(df, 50, 5, 2)\n",
    "decision_tree_model(df, 50, 5, 4)\n",
    "decision_tree_model(df, 50, 10, 2)\n",
    "decision_tree_model(df, 50, 10, 4)"
   ]
  },
  {
   "cell_type": "code",
   "execution_count": 14,
   "metadata": {},
   "outputs": [
    {
     "data": {
      "text/html": [
       "<div>\n",
       "<style scoped>\n",
       "    .dataframe tbody tr th:only-of-type {\n",
       "        vertical-align: middle;\n",
       "    }\n",
       "\n",
       "    .dataframe tbody tr th {\n",
       "        vertical-align: top;\n",
       "    }\n",
       "\n",
       "    .dataframe thead th {\n",
       "        text-align: right;\n",
       "    }\n",
       "</style>\n",
       "<table border=\"1\" class=\"dataframe\">\n",
       "  <thead>\n",
       "    <tr style=\"text-align: right;\">\n",
       "      <th></th>\n",
       "      <th>Day</th>\n",
       "      <th>Outlook</th>\n",
       "      <th>Temp.</th>\n",
       "      <th>Humidity</th>\n",
       "      <th>Wind</th>\n",
       "      <th>Predicted Decision</th>\n",
       "    </tr>\n",
       "  </thead>\n",
       "  <tbody>\n",
       "    <tr>\n",
       "      <th>0</th>\n",
       "      <td>15</td>\n",
       "      <td>Sunny</td>\n",
       "      <td>Cool</td>\n",
       "      <td>Normal</td>\n",
       "      <td>Weak</td>\n",
       "      <td>1</td>\n",
       "    </tr>\n",
       "    <tr>\n",
       "      <th>1</th>\n",
       "      <td>16</td>\n",
       "      <td>Sunny</td>\n",
       "      <td>Mild</td>\n",
       "      <td>Normal</td>\n",
       "      <td>Weak</td>\n",
       "      <td>1</td>\n",
       "    </tr>\n",
       "  </tbody>\n",
       "</table>\n",
       "</div>"
      ],
      "text/plain": [
       "   Day Outlook Temp. Humidity  Wind  Predicted Decision\n",
       "0   15   Sunny  Cool   Normal  Weak                   1\n",
       "1   16   Sunny  Mild   Normal  Weak                   1"
      ]
     },
     "metadata": {},
     "output_type": "display_data"
    }
   ],
   "source": [
    "test = pd.read_csv(\"./data/tennis_test.csv\")\n",
    "test.drop(\"Day\", axis=1, inplace=True) # Drop unneeded dependent features\n",
    "test = test.astype('category') # Easier datatype\n",
    "test = test.apply(preprocessing.LabelEncoder().fit_transform) # Encode categorical features for numerical evaluation in the algorithm\n",
    "\n",
    "train = df_encoded.iloc[0:,:].values.tolist()\n",
    "test = test.iloc[0:,:].values.tolist()\n",
    "\n",
    "# Remove the actual values from test, to be able to predict\n",
    "for row in test:\n",
    "    row[-1] = None\n",
    "pred = decision_tree_predictions(train, test, 10, 2)\n",
    "\n",
    "test = pd.read_csv(\"./data/tennis_test.csv\")\n",
    "test['Decision'] = pred\n",
    "test.rename(columns={'Decision':'Predicted Decision'}, inplace=True)\n",
    "display(test)"
   ]
  },
  {
   "cell_type": "markdown",
   "metadata": {},
   "source": [
    "The overall accuracy of this model with this dataset is very low. Because I am new to this, I'm not entirely sure why this is the case, but possible factors I can think of are\n",
    ">The dataset is categorical non-numerical, and I am inexperienced with data encoding. I did some research on it for this project and used the best method I could find and understand - this means I could have done it incorrectly.\n",
    "\n",
    ">The dataset is very, very small, and might just not have enough samples to build an accurate tree from. \n",
    "\n",
    "For further research outside of this project, I want to run this model on several datasets with similar features, but more samples, to narrow down the reason this is so inaccurate."
   ]
  },
  {
   "cell_type": "markdown",
   "metadata": {},
   "source": [
    "# Question 2\n",
    "## Using the personal loan dataset to predict a customer will accept a loan offer"
   ]
  },
  {
   "cell_type": "markdown",
   "metadata": {},
   "source": [
    "### Load & organize the data"
   ]
  },
  {
   "cell_type": "code",
   "execution_count": 14,
   "metadata": {
    "scrolled": false
   },
   "outputs": [
    {
     "name": "stdout",
     "output_type": "stream",
     "text": [
      "<class 'pandas.core.frame.DataFrame'>\n",
      "RangeIndex: 5000 entries, 0 to 4999\n",
      "Data columns (total 13 columns):\n",
      "Age                   5000 non-null int64\n",
      "Experience            5000 non-null int64\n",
      "Income                5000 non-null int64\n",
      "ZIP Code              5000 non-null int64\n",
      "Family                5000 non-null int64\n",
      "CCAvg                 5000 non-null float64\n",
      "Education             5000 non-null int64\n",
      "Mortgage              5000 non-null int64\n",
      "Securities Account    5000 non-null int64\n",
      "CD Account            5000 non-null int64\n",
      "Online                5000 non-null int64\n",
      "CreditCard            5000 non-null int64\n",
      "Personal Loan         5000 non-null int64\n",
      "dtypes: float64(1), int64(12)\n",
      "memory usage: 507.9 KB\n"
     ]
    },
    {
     "data": {
      "text/plain": [
       "None"
      ]
     },
     "metadata": {},
     "output_type": "display_data"
    },
    {
     "data": {
      "text/html": [
       "<div>\n",
       "<style scoped>\n",
       "    .dataframe tbody tr th:only-of-type {\n",
       "        vertical-align: middle;\n",
       "    }\n",
       "\n",
       "    .dataframe tbody tr th {\n",
       "        vertical-align: top;\n",
       "    }\n",
       "\n",
       "    .dataframe thead th {\n",
       "        text-align: right;\n",
       "    }\n",
       "</style>\n",
       "<table border=\"1\" class=\"dataframe\">\n",
       "  <thead>\n",
       "    <tr style=\"text-align: right;\">\n",
       "      <th></th>\n",
       "      <th>Age</th>\n",
       "      <th>Experience</th>\n",
       "      <th>Income</th>\n",
       "      <th>ZIP Code</th>\n",
       "      <th>Family</th>\n",
       "      <th>CCAvg</th>\n",
       "      <th>Education</th>\n",
       "      <th>Mortgage</th>\n",
       "      <th>Securities Account</th>\n",
       "      <th>CD Account</th>\n",
       "      <th>Online</th>\n",
       "      <th>CreditCard</th>\n",
       "      <th>Personal Loan</th>\n",
       "    </tr>\n",
       "  </thead>\n",
       "  <tbody>\n",
       "    <tr>\n",
       "      <th>0</th>\n",
       "      <td>25</td>\n",
       "      <td>1</td>\n",
       "      <td>49</td>\n",
       "      <td>91107</td>\n",
       "      <td>4</td>\n",
       "      <td>1.6</td>\n",
       "      <td>1</td>\n",
       "      <td>0</td>\n",
       "      <td>1</td>\n",
       "      <td>0</td>\n",
       "      <td>0</td>\n",
       "      <td>0</td>\n",
       "      <td>0</td>\n",
       "    </tr>\n",
       "    <tr>\n",
       "      <th>1</th>\n",
       "      <td>45</td>\n",
       "      <td>19</td>\n",
       "      <td>34</td>\n",
       "      <td>90089</td>\n",
       "      <td>3</td>\n",
       "      <td>1.5</td>\n",
       "      <td>1</td>\n",
       "      <td>0</td>\n",
       "      <td>1</td>\n",
       "      <td>0</td>\n",
       "      <td>0</td>\n",
       "      <td>0</td>\n",
       "      <td>0</td>\n",
       "    </tr>\n",
       "  </tbody>\n",
       "</table>\n",
       "</div>"
      ],
      "text/plain": [
       "   Age  Experience  Income  ZIP Code  Family  CCAvg  Education  Mortgage  \\\n",
       "0   25           1      49     91107       4    1.6          1         0   \n",
       "1   45          19      34     90089       3    1.5          1         0   \n",
       "\n",
       "   Securities Account  CD Account  Online  CreditCard  Personal Loan  \n",
       "0                   1           0       0           0              0  \n",
       "1                   1           0       0           0              0  "
      ]
     },
     "metadata": {},
     "output_type": "display_data"
    }
   ],
   "source": [
    "df = pd.read_csv(\"./data/personal_loan_data.csv\")\n",
    "df.drop('ID', axis=1, inplace=True)\n",
    "ind_col = df.pop('Personal Loan')\n",
    "df.insert(len(df.columns), 'Personal Loan', ind_col)\n",
    "display(df.info())\n",
    "display(df.head(2))\n",
    "df = df.astype('category')"
   ]
  },
  {
   "cell_type": "markdown",
   "metadata": {},
   "source": [
    "### Model test"
   ]
  },
  {
   "cell_type": "code",
   "execution_count": 16,
   "metadata": {
    "scrolled": true
   },
   "outputs": [
    {
     "name": "stdout",
     "output_type": "stream",
     "text": [
      "Number of times ran: 1 , with a max depth of 5 , and min node size of 10\n",
      "Average accuracy: 98.6%\n"
     ]
    }
   ],
   "source": [
    "decision_tree_model(df, 1, 5, 10)"
   ]
  },
  {
   "cell_type": "markdown",
   "metadata": {},
   "source": [
    "## Data gathering for exploration"
   ]
  },
  {
   "cell_type": "markdown",
   "metadata": {},
   "source": [
    "### Testing the model on another dataset"
   ]
  },
  {
   "cell_type": "code",
   "execution_count": 18,
   "metadata": {
    "scrolled": true
   },
   "outputs": [
    {
     "name": "stdout",
     "output_type": "stream",
     "text": [
      "Number of times ran: 20 , with a max depth of 5 , and min node size of 10\n",
      "Average accuracy: 93.33333333333334%\n",
      "Number of times ran: 50 , with a max depth of 5 , and min node size of 10\n",
      "Average accuracy: 94.33333333333331%\n"
     ]
    }
   ],
   "source": [
    "df = pd.read_csv(\"./data/Iris.csv\")\n",
    "df.drop('Id', axis=1, inplace=True)\n",
    "df = df.astype('category')\n",
    "\n",
    "decision_tree_model(df, 20, 5, 10)\n",
    "decision_tree_model(df, 50, 5, 10)"
   ]
  },
  {
   "cell_type": "code",
   "execution_count": 26,
   "metadata": {},
   "outputs": [],
   "source": [
    "df = pd.read_csv(\"./data/personal_loan_data.csv\")\n",
    "df.drop('ID', axis=1, inplace=True)\n",
    "ind_col = df.pop('Personal Loan')\n",
    "df.insert(len(df.columns), 'Personal Loan', ind_col)\n",
    "df = df.astype('category')"
   ]
  },
  {
   "cell_type": "markdown",
   "metadata": {},
   "source": [
    "### Accuracy of model with unlimited depth"
   ]
  },
  {
   "cell_type": "code",
   "execution_count": 17,
   "metadata": {
    "scrolled": true
   },
   "outputs": [
    {
     "name": "stdout",
     "output_type": "stream",
     "text": [
      "Number of times ran: 1 , with a max depth of 1000 , and min node size of 10\n",
      "Average accuracy: 98.0%\n"
     ]
    }
   ],
   "source": [
    "decision_tree_model(df, 1, 1000, 10)"
   ]
  },
  {
   "cell_type": "markdown",
   "metadata": {},
   "source": [
    "### Tree for evaluations"
   ]
  },
  {
   "cell_type": "code",
   "execution_count": 18,
   "metadata": {},
   "outputs": [],
   "source": [
    "df_list = df.iloc[0:,:].values.tolist()\n",
    "# Split the list into train and test sets\n",
    "train, test = train_test_split(df_list, test_size=.2, train_size=.8)\n",
    "master_tree = build_tree(train, 5, 10)"
   ]
  },
  {
   "cell_type": "code",
   "execution_count": 19,
   "metadata": {
    "scrolled": false
   },
   "outputs": [
    {
     "name": "stdout",
     "output_type": "stream",
     "text": [
      "[X3 < 115.000]\n",
      " [X6 < 3.000]\n",
      "  [X3 < 108.000]\n",
      "   [X1 < 49.000]\n",
      "    [X1 < 33.000]\n",
      "     [0]\n",
      "     [0]\n",
      "    [X1 < 49.000]\n",
      "     [0]\n",
      "     [0]\n",
      "   [X5 < 4.000]\n",
      "    [X7 < 2.000]\n",
      "     [0]\n",
      "     [0]\n",
      "    [X7 < 3.000]\n",
      "     [1]\n",
      "     [0]\n",
      "  [X10 < 1.000]\n",
      "   [X3 < 93.000]\n",
      "    [X1 < 28.000]\n",
      "     [1]\n",
      "     [0]\n",
      "    [X7 < 2.000]\n",
      "     [0]\n",
      "     [1]\n",
      "   [X4 < 94610.000]\n",
      "    [X6 < 4.000]\n",
      "     [1]\n",
      "     [1]\n",
      "    [0]\n",
      " [X7 < 2.000]\n",
      "  [X5 < 3.000]\n",
      "   [X1 < 46.000]\n",
      "    [X1 < 45.000]\n",
      "     [0]\n",
      "     [0]\n",
      "    [X1 < 46.000]\n",
      "     [0]\n",
      "     [0]\n",
      "   [X1 < 56.000]\n",
      "    [X1 < 47.000]\n",
      "     [1]\n",
      "     [1]\n",
      "    [X1 < 56.000]\n",
      "     [1]\n",
      "     [1]\n",
      "  [X3 < 118.000]\n",
      "   [X1 < 62.000]\n",
      "    [1]\n",
      "    [0]\n",
      "   [X1 < 27.000]\n",
      "    [1]\n",
      "    [X1 < 27.000]\n",
      "     [1]\n",
      "     [1]\n"
     ]
    }
   ],
   "source": [
    "print_tree(master_tree)"
   ]
  },
  {
   "cell_type": "markdown",
   "metadata": {},
   "source": [
    "### Comparing accuracy of training set vs testing set"
   ]
  },
  {
   "cell_type": "code",
   "execution_count": 20,
   "metadata": {},
   "outputs": [
    {
     "name": "stdout",
     "output_type": "stream",
     "text": [
      "Accuracy of test set: 98.2\n",
      "Accuracy of train set: 98.98 %\n"
     ]
    }
   ],
   "source": [
    "df_list = df.iloc[0:,:].values.tolist()\n",
    "# Store the correct independent values of test, to evaluate accuracy\n",
    "actual = [row[-1] for row in test]\n",
    "# Remove the actual values from test, to be able to predict\n",
    "for row in test:\n",
    "    row[-1] = None\n",
    "pred = master_tree_predictions(test, master_tree)\n",
    "print(\"Accuracy of test set:\",accuracy_metric(actual, pred))\n",
    "\n",
    "# Store the correct independent values of test, to evaluate accuracy\n",
    "actual = [row[-1] for row in train]\n",
    "# Remove the actual values from test, to be able to predict\n",
    "for row in train:\n",
    "    row[-1] = None\n",
    "    \n",
    "pred = master_tree_predictions(train, master_tree)\n",
    "print(\"Accuracy of train set:\", round(accuracy_metric(actual, pred),2),\"%\")"
   ]
  },
  {
   "cell_type": "markdown",
   "metadata": {},
   "source": [
    "### Gathering data to compare accuracy to train size"
   ]
  },
  {
   "cell_type": "code",
   "execution_count": 27,
   "metadata": {},
   "outputs": [
    {
     "name": "stdout",
     "output_type": "stream",
     "text": [
      "Train size: 0.8 Test size: 0.2 Accuracy: 98.5 %\n",
      "Train size: 0.7 Test size: 0.3 Accuracy: 98.0 %\n",
      "Train size: 0.6 Test size: 0.4 Accuracy: 98.0 %\n",
      "Train size: 0.5 Test size: 0.5 Accuracy: 98.64 %\n",
      "Train size: 0.4 Test size: 0.6 Accuracy: 98.27 %\n"
     ]
    }
   ],
   "source": [
    "train_sizes = [.8, .7, .6, .5, .4]\n",
    "accuracy = []\n",
    "for i in range(len(train_sizes)):\n",
    "    # Convert the dataframe into a list\n",
    "    df_list = df.iloc[0:,:].values.tolist()\n",
    "    # Split the list into train and test sets\n",
    "    train, test = train_test_split(df_list, test_size=round(1-train_sizes[i], 2), train_size=train_sizes[i])\n",
    "    # Store the correct independent values of test, to evaluate accuracy\n",
    "    actual = [row[-1] for row in test]\n",
    "    # Remove the actual values from test, to be able to predict\n",
    "    for row in test:\n",
    "        row[-1] = None\n",
    "    pred = decision_tree_predictions(train, test, 5, 10)\n",
    "    acc = accuracy_metric(actual, pred)\n",
    "    accuracy.append(acc)\n",
    "    print(\"Train size:\", train_sizes[i], \"Test size:\", round(1-train_sizes[i], 2), \"Accuracy:\", round(acc, 2), \"%\")"
   ]
  },
  {
   "cell_type": "markdown",
   "metadata": {},
   "source": [
    "### Gathering data to evaluate \"best\" max depth"
   ]
  },
  {
   "cell_type": "code",
   "execution_count": 22,
   "metadata": {},
   "outputs": [
    {
     "name": "stdout",
     "output_type": "stream",
     "text": [
      "Number of times ran: 2 , with a max depth of 2 , and min node size of 10\n",
      "Average accuracy: 97.0%\n",
      "Number of times ran: 2 , with a max depth of 4 , and min node size of 10\n",
      "Average accuracy: 98.0%\n",
      "Number of times ran: 2 , with a max depth of 6 , and min node size of 10\n",
      "Average accuracy: 98.4%\n",
      "Number of times ran: 2 , with a max depth of 8 , and min node size of 10\n",
      "Average accuracy: 97.75%\n"
     ]
    }
   ],
   "source": [
    "depth = 2\n",
    "for i in range(4):\n",
    "    decision_tree_model(df, 2, depth, 10)\n",
    "    depth += 2"
   ]
  },
  {
   "cell_type": "markdown",
   "metadata": {},
   "source": [
    "## Data Exploration"
   ]
  },
  {
   "cell_type": "markdown",
   "metadata": {},
   "source": [
    "<img src=\"master_tree.PNG\" width=\"700\"/>"
   ]
  },
  {
   "cell_type": "code",
   "execution_count": 23,
   "metadata": {},
   "outputs": [],
   "source": [
    "df = pd.read_csv(\"./data/personal_loan_data.csv\")\n",
    "df.drop('ID', axis=1, inplace=True)\n",
    "ind_col = df.pop('Personal Loan')\n",
    "df.insert(len(df.columns), 'Personal Loan', ind_col)"
   ]
  },
  {
   "cell_type": "markdown",
   "metadata": {},
   "source": [
    "### Heatmap"
   ]
  },
  {
   "cell_type": "code",
   "execution_count": 24,
   "metadata": {
    "scrolled": false
   },
   "outputs": [
    {
     "data": {
      "image/png": "[encoded data removed]",
      "text/plain": [
       "<Figure size 864x288 with 4 Axes>"
      ]
     },
     "metadata": {
      "needs_background": "light"
     },
     "output_type": "display_data"
    }
   ],
   "source": [
    "fig, ax =plt.subplots(1,2, figsize=(12,4))\n",
    "sb.heatmap(df.iloc[:, :len(df.columns) - 1].corr(), ax=ax[0])\n",
    "sb.heatmap(df.corr(), ax=ax[1])\n",
    "ax[0].set_title(\"Dependent Features\")\n",
    "ax[1].set_title(\"All Features - Target Feature: Personal Loan\")\n",
    "plt.subplots_adjust(wspace=0.5)\n",
    "plt.show()"
   ]
  },
  {
   "cell_type": "markdown",
   "metadata": {},
   "source": [
    "Dependent feature heatmap to identify multicollinearity\n",
    ">Income is strongly (negatively) correlated to Family, CCAvg, and Education\n",
    ">CCAvg is moderately (negatively) correlated to Family and Education\n",
    ">Age is strongly (positively) correlated to Experience\n",
    ">The majority of features have a little correlation with each other\n",
    "\n",
    "Feature heatmap to identify correlation between dependent features and our target feature (Personal Loan)\n",
    ">Income, CCAvg, and CD Account have the highest correlation with the target feature"
   ]
  },
  {
   "cell_type": "code",
   "execution_count": 29,
   "metadata": {},
   "outputs": [
    {
     "data": {
      "image/png": "[encoded data removed]",
      "text/plain": [
       "<Figure size 432x288 with 1 Axes>"
      ]
     },
     "metadata": {
      "needs_background": "light"
     },
     "output_type": "display_data"
    }
   ],
   "source": [
    "fig = plt.figure()\n",
    "plt.plot(train_sizes, accuracy)\n",
    "plt.xlabel('Train Split')\n",
    "plt.ylabel('Accuracy %')\n",
    "plt.ylim((90,100))\n",
    "plt.show()"
   ]
  },
  {
   "cell_type": "markdown",
   "metadata": {},
   "source": [
    "## Model Evaluation"
   ]
  },
  {
   "cell_type": "markdown",
   "metadata": {},
   "source": [
    "The accuracy of the model is 98.2% over the test set, and 98.98% over the train set. It makes sense that the model would be more accurate over the train set, because that's what the model was created from. However it has to be noted that the difference between the two accuracies is almost negligably small, and there is some variance depending on how the data was split that run - sometimes test has greater accuracy, but they are both always over 97%. \n",
    "\n",
    "The accuracy of the model with unlimited (arbitrarily set to 1000) depth is 98%. It is on the lower end of accuracies compared to the other data gathered, but low is a relative term, because 98% is still extremely high.\n",
    "\n",
    "Maximum depths between 2-8 were tested:\n",
    "\n",
    "Max depth: 2, Accuracy: 97%\n",
    "Max depth: 4, Accuracy: 98%\n",
    "Max depth: 6, Accuracy: 98.4%\n",
    "Max depth: 8, Accuracy: 97.75%\n",
    "\n",
    "This was run multiple times during the testing process, and the result was always that a max depth of 6 has the overall highest accuracy. However, these are all very high accuracies, and aren't far off from a depth of 1000, so depth did not make a big difference in accuracy variance.\n",
    "\n",
    "I tested the model on another dataset (Iris) that has more samples than the tennis dataset, making it a better indication of model accuracy. The average accuracy when run 50 times was 94%. The fact that the model has an accuracy above 90% for significantly different datasets is a good indication that overfitting is not a problem.\n",
    "\n",
    "Splitting test and train between 40-60 vs 20-80 did not have a large difference in accuracy. A split around 60% train and 40% test has the overall highest accuracy, with smaller or larger splits both having lower accuracies. A slightly uneven split favoring train yields the best results."
   ]
  },
  {
   "cell_type": "markdown",
   "metadata": {},
   "source": [
    "# References\n",
    "#### ->I'll be honest, I should have started this assignment sooner so I would have time to ask you for help, and that is what I will do in the future. I was really struggling translating the theory and high concept we've learned and talked about in class into practical code. I found this resource https://machinelearningmastery.com/implement-decision-tree-algorithm-scratch-python/, and followed along with the methodology and logic, and have translated that into my own work. Following their implementation is what taught me how to go about representing decision tree logic in code, and I can say that I 100% understand what I have written and how I implemented this algorithm. \n",
    "#### ->Resource used for explanation of the Gini Index formula: https://www.kdnuggets.com/2020/02/decision-tree-intuition.html"
   ]
  }
 ],
 "metadata": {
  "kernelspec": {
   "display_name": "Python 3",
   "language": "python",
   "name": "python3"
  },
  "language_info": {
   "codemirror_mode": {
    "name": "ipython",
    "version": 3
   },
   "file_extension": ".py",
   "mimetype": "text/x-python",
   "name": "python",
   "nbconvert_exporter": "python",
   "pygments_lexer": "ipython3",
   "version": "3.7.3"
  }
 },
 "nbformat": 4,
 "nbformat_minor": 2
}
